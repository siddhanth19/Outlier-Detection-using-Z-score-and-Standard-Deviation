{
 "cells": [
  {
   "cell_type": "code",
   "execution_count": 1,
   "id": "da9b7cca",
   "metadata": {},
   "outputs": [],
   "source": [
    "import numpy as np\n",
    "import matplotlib.pyplot as plt\n",
    "import pandas as pd\n",
    "from scipy.stats import norm\n",
    "%matplotlib inline"
   ]
  },
  {
   "cell_type": "code",
   "execution_count": 2,
   "id": "8e69298f",
   "metadata": {},
   "outputs": [],
   "source": [
    "df=pd.read_csv(\"Desktop/csv files/bhp.csv\")"
   ]
  },
  {
   "cell_type": "code",
   "execution_count": 3,
   "id": "cc3f00b5",
   "metadata": {},
   "outputs": [
    {
     "data": {
      "text/html": [
       "<div>\n",
       "<style scoped>\n",
       "    .dataframe tbody tr th:only-of-type {\n",
       "        vertical-align: middle;\n",
       "    }\n",
       "\n",
       "    .dataframe tbody tr th {\n",
       "        vertical-align: top;\n",
       "    }\n",
       "\n",
       "    .dataframe thead th {\n",
       "        text-align: right;\n",
       "    }\n",
       "</style>\n",
       "<table border=\"1\" class=\"dataframe\">\n",
       "  <thead>\n",
       "    <tr style=\"text-align: right;\">\n",
       "      <th></th>\n",
       "      <th>location</th>\n",
       "      <th>size</th>\n",
       "      <th>total_sqft</th>\n",
       "      <th>bath</th>\n",
       "      <th>price</th>\n",
       "      <th>bhk</th>\n",
       "      <th>price_per_sqft</th>\n",
       "    </tr>\n",
       "  </thead>\n",
       "  <tbody>\n",
       "    <tr>\n",
       "      <th>0</th>\n",
       "      <td>Electronic City Phase II</td>\n",
       "      <td>2 BHK</td>\n",
       "      <td>1056.0</td>\n",
       "      <td>2.0</td>\n",
       "      <td>39.07</td>\n",
       "      <td>2</td>\n",
       "      <td>3699</td>\n",
       "    </tr>\n",
       "    <tr>\n",
       "      <th>1</th>\n",
       "      <td>Chikka Tirupathi</td>\n",
       "      <td>4 Bedroom</td>\n",
       "      <td>2600.0</td>\n",
       "      <td>5.0</td>\n",
       "      <td>120.00</td>\n",
       "      <td>4</td>\n",
       "      <td>4615</td>\n",
       "    </tr>\n",
       "    <tr>\n",
       "      <th>2</th>\n",
       "      <td>Uttarahalli</td>\n",
       "      <td>3 BHK</td>\n",
       "      <td>1440.0</td>\n",
       "      <td>2.0</td>\n",
       "      <td>62.00</td>\n",
       "      <td>3</td>\n",
       "      <td>4305</td>\n",
       "    </tr>\n",
       "    <tr>\n",
       "      <th>3</th>\n",
       "      <td>Lingadheeranahalli</td>\n",
       "      <td>3 BHK</td>\n",
       "      <td>1521.0</td>\n",
       "      <td>3.0</td>\n",
       "      <td>95.00</td>\n",
       "      <td>3</td>\n",
       "      <td>6245</td>\n",
       "    </tr>\n",
       "    <tr>\n",
       "      <th>4</th>\n",
       "      <td>Kothanur</td>\n",
       "      <td>2 BHK</td>\n",
       "      <td>1200.0</td>\n",
       "      <td>2.0</td>\n",
       "      <td>51.00</td>\n",
       "      <td>2</td>\n",
       "      <td>4250</td>\n",
       "    </tr>\n",
       "  </tbody>\n",
       "</table>\n",
       "</div>"
      ],
      "text/plain": [
       "                   location       size  total_sqft  bath   price  bhk  \\\n",
       "0  Electronic City Phase II      2 BHK      1056.0   2.0   39.07    2   \n",
       "1          Chikka Tirupathi  4 Bedroom      2600.0   5.0  120.00    4   \n",
       "2               Uttarahalli      3 BHK      1440.0   2.0   62.00    3   \n",
       "3        Lingadheeranahalli      3 BHK      1521.0   3.0   95.00    3   \n",
       "4                  Kothanur      2 BHK      1200.0   2.0   51.00    2   \n",
       "\n",
       "   price_per_sqft  \n",
       "0            3699  \n",
       "1            4615  \n",
       "2            4305  \n",
       "3            6245  \n",
       "4            4250  "
      ]
     },
     "execution_count": 3,
     "metadata": {},
     "output_type": "execute_result"
    }
   ],
   "source": [
    "df.head()"
   ]
  },
  {
   "cell_type": "code",
   "execution_count": 4,
   "id": "30d0a0b0",
   "metadata": {},
   "outputs": [
    {
     "data": {
      "text/plain": [
       "location          0\n",
       "size              0\n",
       "total_sqft        0\n",
       "bath              0\n",
       "price             0\n",
       "bhk               0\n",
       "price_per_sqft    0\n",
       "dtype: int64"
      ]
     },
     "execution_count": 4,
     "metadata": {},
     "output_type": "execute_result"
    }
   ],
   "source": [
    "df.isnull().sum()"
   ]
  },
  {
   "cell_type": "code",
   "execution_count": 5,
   "id": "bda013e4",
   "metadata": {},
   "outputs": [],
   "source": [
    "min_threshold,max_threshold=df['price_per_sqft'].quantile([0.001,0.999])"
   ]
  },
  {
   "cell_type": "code",
   "execution_count": 6,
   "id": "04d7655a",
   "metadata": {},
   "outputs": [],
   "source": [
    "df2=df[(df['price_per_sqft']>min_threshold) & (df['price_per_sqft']<max_threshold)]"
   ]
  },
  {
   "cell_type": "code",
   "execution_count": 13,
   "id": "391ca915",
   "metadata": {},
   "outputs": [
    {
     "data": {
      "text/plain": [
       "28"
      ]
     },
     "execution_count": 13,
     "metadata": {},
     "output_type": "execute_result"
    }
   ],
   "source": [
    "df.shape[0]- df2.shape[0]"
   ]
  },
  {
   "cell_type": "markdown",
   "id": "d9e15f2b",
   "metadata": {},
   "source": [
    "## using standard deviation"
   ]
  },
  {
   "cell_type": "code",
   "execution_count": 15,
   "id": "2071cb03",
   "metadata": {},
   "outputs": [
    {
     "data": {
      "text/plain": [
       "[<matplotlib.lines.Line2D at 0x27b633cf3a0>]"
      ]
     },
     "execution_count": 15,
     "metadata": {},
     "output_type": "execute_result"
    },
    {
     "data": {
      "image/png": "[encoded data removed]",
      "text/plain": [
       "<Figure size 432x288 with 1 Axes>"
      ]
     },
     "metadata": {
      "needs_background": "light"
     },
     "output_type": "display_data"
    }
   ],
   "source": [
    "hist=plt.hist(df2['price_per_sqft'],bins=20,rwidth=0.8,density=True)\n",
    "plt.xlabel('Price Per Sqft')\n",
    "plt.ylabel('Count')\n",
    "rng=np.arange(df2['price_per_sqft'].min(),df2['price_per_sqft'].max(),0.1)\n",
    "plt.plot(rng,norm.pdf(rng,df2['price_per_sqft'].mean(),df2['price_per_sqft'].std()))"
   ]
  },
  {
   "cell_type": "code",
   "execution_count": 17,
   "id": "b6248e3e",
   "metadata": {},
   "outputs": [
    {
     "data": {
      "text/plain": [
       "(23227.73653589432, -9900.429065502582)"
      ]
     },
     "execution_count": 17,
     "metadata": {},
     "output_type": "execute_result"
    }
   ],
   "source": [
    "maxlimit=df2['price_per_sqft'].mean() + 4* df2['price_per_sqft'].std()\n",
    "minlimit=df2['price_per_sqft'].mean() - 4* df2['price_per_sqft'].std()\n",
    "\n",
    "maxlimit,minlimit"
   ]
  },
  {
   "cell_type": "code",
   "execution_count": 18,
   "id": "09f8cf1d",
   "metadata": {},
   "outputs": [],
   "source": [
    "df3=df2[(df2['price_per_sqft']>minlimit) & (df2['price_per_sqft']<maxlimit)]"
   ]
  },
  {
   "cell_type": "code",
   "execution_count": 20,
   "id": "c9a0993a",
   "metadata": {},
   "outputs": [
    {
     "data": {
      "text/plain": [
       "125"
      ]
     },
     "execution_count": 20,
     "metadata": {},
     "output_type": "execute_result"
    }
   ],
   "source": [
    "df2.shape[0]-df3.shape[0]"
   ]
  },
  {
   "cell_type": "code",
   "execution_count": 22,
   "id": "c75d238f",
   "metadata": {},
   "outputs": [
    {
     "data": {
      "text/plain": [
       "[<matplotlib.lines.Line2D at 0x27b623920b0>]"
      ]
     },
     "execution_count": 22,
     "metadata": {},
     "output_type": "execute_result"
    },
    {
     "data": {
      "image/png": "[encoded data removed]",
      "text/plain": [
       "<Figure size 432x288 with 1 Axes>"
      ]
     },
     "metadata": {
      "needs_background": "light"
     },
     "output_type": "display_data"
    }
   ],
   "source": [
    "plt.hist(df3['price_per_sqft'],bins=20,rwidth=0.8,density=True)\n",
    "plt.xlabel('price_per_sqft')\n",
    "plt.ylabel('count')\n",
    "rng=np.arange(-5000,df3['price_per_sqft'].max(),0.1)\n",
    "plt.plot(rng,norm.pdf(rng,df3['price_per_sqft'].mean(),df3['price_per_sqft'].std()))"
   ]
  },
  {
   "cell_type": "markdown",
   "id": "6da04d31",
   "metadata": {},
   "source": [
    "## Using Z score"
   ]
  },
  {
   "cell_type": "code",
   "execution_count": 23,
   "id": "202dd9b1",
   "metadata": {},
   "outputs": [
    {
     "name": "stderr",
     "output_type": "stream",
     "text": [
      "C:\\Users\\Siddhanth\\AppData\\Local\\Temp\\ipykernel_22352\\2777011283.py:1: SettingWithCopyWarning: \n",
      "A value is trying to be set on a copy of a slice from a DataFrame.\n",
      "Try using .loc[row_indexer,col_indexer] = value instead\n",
      "\n",
      "See the caveats in the documentation: https://pandas.pydata.org/pandas-docs/stable/user_guide/indexing.html#returning-a-view-versus-a-copy\n",
      "  df2['z score']=(df2['price_per_sqft']-df2['price_per_sqft'].mean())/(df2['price_per_sqft'].std())\n"
     ]
    }
   ],
   "source": [
    "df2['z score']=(df2['price_per_sqft']-df2['price_per_sqft'].mean())/(df2['price_per_sqft'].std())"
   ]
  },
  {
   "cell_type": "code",
   "execution_count": 24,
   "id": "24b8a3e9",
   "metadata": {},
   "outputs": [
    {
     "data": {
      "text/html": [
       "<div>\n",
       "<style scoped>\n",
       "    .dataframe tbody tr th:only-of-type {\n",
       "        vertical-align: middle;\n",
       "    }\n",
       "\n",
       "    .dataframe tbody tr th {\n",
       "        vertical-align: top;\n",
       "    }\n",
       "\n",
       "    .dataframe thead th {\n",
       "        text-align: right;\n",
       "    }\n",
       "</style>\n",
       "<table border=\"1\" class=\"dataframe\">\n",
       "  <thead>\n",
       "    <tr style=\"text-align: right;\">\n",
       "      <th></th>\n",
       "      <th>location</th>\n",
       "      <th>size</th>\n",
       "      <th>total_sqft</th>\n",
       "      <th>bath</th>\n",
       "      <th>price</th>\n",
       "      <th>bhk</th>\n",
       "      <th>price_per_sqft</th>\n",
       "      <th>z score</th>\n",
       "    </tr>\n",
       "  </thead>\n",
       "  <tbody>\n",
       "    <tr>\n",
       "      <th>10431</th>\n",
       "      <td>Sarjapur  Road</td>\n",
       "      <td>4 Bedroom</td>\n",
       "      <td>2880.0</td>\n",
       "      <td>3.0</td>\n",
       "      <td>211.0</td>\n",
       "      <td>4</td>\n",
       "      <td>7326</td>\n",
       "      <td>0.159948</td>\n",
       "    </tr>\n",
       "    <tr>\n",
       "      <th>11779</th>\n",
       "      <td>Hennur Road</td>\n",
       "      <td>3 BHK</td>\n",
       "      <td>1672.0</td>\n",
       "      <td>3.0</td>\n",
       "      <td>86.0</td>\n",
       "      <td>3</td>\n",
       "      <td>5143</td>\n",
       "      <td>-0.367217</td>\n",
       "    </tr>\n",
       "    <tr>\n",
       "      <th>5155</th>\n",
       "      <td>other</td>\n",
       "      <td>8 Bedroom</td>\n",
       "      <td>1200.0</td>\n",
       "      <td>7.0</td>\n",
       "      <td>100.0</td>\n",
       "      <td>8</td>\n",
       "      <td>8333</td>\n",
       "      <td>0.403124</td>\n",
       "    </tr>\n",
       "    <tr>\n",
       "      <th>5212</th>\n",
       "      <td>Bhoganhalli</td>\n",
       "      <td>4 BHK</td>\n",
       "      <td>1974.0</td>\n",
       "      <td>4.0</td>\n",
       "      <td>106.0</td>\n",
       "      <td>4</td>\n",
       "      <td>5369</td>\n",
       "      <td>-0.312641</td>\n",
       "    </tr>\n",
       "    <tr>\n",
       "      <th>8746</th>\n",
       "      <td>Bisuvanahalli</td>\n",
       "      <td>3 BHK</td>\n",
       "      <td>1180.0</td>\n",
       "      <td>2.0</td>\n",
       "      <td>55.5</td>\n",
       "      <td>3</td>\n",
       "      <td>4703</td>\n",
       "      <td>-0.473471</td>\n",
       "    </tr>\n",
       "    <tr>\n",
       "      <th>4319</th>\n",
       "      <td>Nagarbhavi</td>\n",
       "      <td>3 BHK</td>\n",
       "      <td>1515.0</td>\n",
       "      <td>2.0</td>\n",
       "      <td>79.0</td>\n",
       "      <td>3</td>\n",
       "      <td>5214</td>\n",
       "      <td>-0.350072</td>\n",
       "    </tr>\n",
       "    <tr>\n",
       "      <th>1758</th>\n",
       "      <td>Kodigehaali</td>\n",
       "      <td>2 BHK</td>\n",
       "      <td>1200.0</td>\n",
       "      <td>2.0</td>\n",
       "      <td>55.0</td>\n",
       "      <td>2</td>\n",
       "      <td>4583</td>\n",
       "      <td>-0.502449</td>\n",
       "    </tr>\n",
       "    <tr>\n",
       "      <th>11088</th>\n",
       "      <td>other</td>\n",
       "      <td>6 Bedroom</td>\n",
       "      <td>2400.0</td>\n",
       "      <td>7.0</td>\n",
       "      <td>107.0</td>\n",
       "      <td>6</td>\n",
       "      <td>4458</td>\n",
       "      <td>-0.532635</td>\n",
       "    </tr>\n",
       "    <tr>\n",
       "      <th>4260</th>\n",
       "      <td>Sarjapur  Road</td>\n",
       "      <td>2 BHK</td>\n",
       "      <td>1308.0</td>\n",
       "      <td>2.0</td>\n",
       "      <td>83.0</td>\n",
       "      <td>2</td>\n",
       "      <td>6345</td>\n",
       "      <td>-0.076951</td>\n",
       "    </tr>\n",
       "    <tr>\n",
       "      <th>5167</th>\n",
       "      <td>Jigani</td>\n",
       "      <td>3 BHK</td>\n",
       "      <td>1221.0</td>\n",
       "      <td>3.0</td>\n",
       "      <td>72.0</td>\n",
       "      <td>3</td>\n",
       "      <td>5896</td>\n",
       "      <td>-0.185378</td>\n",
       "    </tr>\n",
       "  </tbody>\n",
       "</table>\n",
       "</div>"
      ],
      "text/plain": [
       "             location       size  total_sqft  bath  price  bhk  \\\n",
       "10431  Sarjapur  Road  4 Bedroom      2880.0   3.0  211.0    4   \n",
       "11779     Hennur Road      3 BHK      1672.0   3.0   86.0    3   \n",
       "5155            other  8 Bedroom      1200.0   7.0  100.0    8   \n",
       "5212      Bhoganhalli      4 BHK      1974.0   4.0  106.0    4   \n",
       "8746    Bisuvanahalli      3 BHK      1180.0   2.0   55.5    3   \n",
       "4319       Nagarbhavi      3 BHK      1515.0   2.0   79.0    3   \n",
       "1758      Kodigehaali      2 BHK      1200.0   2.0   55.0    2   \n",
       "11088           other  6 Bedroom      2400.0   7.0  107.0    6   \n",
       "4260   Sarjapur  Road      2 BHK      1308.0   2.0   83.0    2   \n",
       "5167           Jigani      3 BHK      1221.0   3.0   72.0    3   \n",
       "\n",
       "       price_per_sqft   z score  \n",
       "10431            7326  0.159948  \n",
       "11779            5143 -0.367217  \n",
       "5155             8333  0.403124  \n",
       "5212             5369 -0.312641  \n",
       "8746             4703 -0.473471  \n",
       "4319             5214 -0.350072  \n",
       "1758             4583 -0.502449  \n",
       "11088            4458 -0.532635  \n",
       "4260             6345 -0.076951  \n",
       "5167             5896 -0.185378  "
      ]
     },
     "execution_count": 24,
     "metadata": {},
     "output_type": "execute_result"
    }
   ],
   "source": [
    "df2.sample(10)"
   ]
  },
  {
   "cell_type": "code",
   "execution_count": 27,
   "id": "630fe7c2",
   "metadata": {},
   "outputs": [],
   "source": [
    "df4=df2[(df2['z score']>-4) & (df2['z score']<4)]"
   ]
  },
  {
   "cell_type": "code",
   "execution_count": 28,
   "id": "c51be77b",
   "metadata": {},
   "outputs": [
    {
     "data": {
      "text/plain": [
       "125"
      ]
     },
     "execution_count": 28,
     "metadata": {},
     "output_type": "execute_result"
    }
   ],
   "source": [
    "df2.shape[0]-df4.shape[0]"
   ]
  },
  {
   "cell_type": "code",
   "execution_count": 29,
   "id": "c1077f9e",
   "metadata": {},
   "outputs": [
    {
     "data": {
      "text/plain": [
       "[<matplotlib.lines.Line2D at 0x27b62e99900>]"
      ]
     },
     "execution_count": 29,
     "metadata": {},
     "output_type": "execute_result"
    },
    {
     "data": {
      "image/png": "[encoded data removed]",
      "text/plain": [
       "<Figure size 432x288 with 1 Axes>"
      ]
     },
     "metadata": {
      "needs_background": "light"
     },
     "output_type": "display_data"
    }
   ],
   "source": [
    "plt.hist(df4['price_per_sqft'],bins=20,rwidth=0.8,density=True)\n",
    "plt.xlabel('price_per_sqft')\n",
    "plt.ylabel('count')\n",
    "rng=np.arange(-5000,df4['price_per_sqft'].max(),0.1)\n",
    "plt.plot(rng,norm.pdf(rng,df4['price_per_sqft'].mean(),df4['price_per_sqft'].std()))"
   ]
  },
  {
   "cell_type": "code",
   "execution_count": null,
   "id": "a5fd27ba",
   "metadata": {},
   "outputs": [],
   "source": []
  }
 ],
 "metadata": {
  "kernelspec": {
   "display_name": "Python 3 (ipykernel)",
   "language": "python",
   "name": "python3"
  },
  "language_info": {
   "codemirror_mode": {
    "name": "ipython",
    "version": 3
   },
   "file_extension": ".py",
   "mimetype": "text/x-python",
   "name": "python",
   "nbconvert_exporter": "python",
   "pygments_lexer": "ipython3",
   "version": "3.10.5"
  }
 },
 "nbformat": 4,
 "nbformat_minor": 5
}
